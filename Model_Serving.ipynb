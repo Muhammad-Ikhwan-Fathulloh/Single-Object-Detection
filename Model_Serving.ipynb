{
  "nbformat": 4,
  "nbformat_minor": 0,
  "metadata": {
    "colab": {
      "provenance": []
    },
    "kernelspec": {
      "name": "python3",
      "display_name": "Python 3"
    },
    "language_info": {
      "name": "python"
    }
  },
  "cells": [
    {
      "cell_type": "code",
      "source": [
        "# Install dependencies\n",
        "!pip install fastapi uvicorn pyngrok torch torchvision Pillow opencv-python-headless"
      ],
      "metadata": {
        "colab": {
          "base_uri": "https://localhost:8080/"
        },
        "id": "iRbd8xxm6GhV",
        "outputId": "cb4c35fd-9930-4cd4-ad3f-96e046a9e950"
      },
      "execution_count": 1,
      "outputs": [
        {
          "output_type": "stream",
          "name": "stdout",
          "text": [
            "Collecting fastapi\n",
            "  Downloading fastapi-0.115.6-py3-none-any.whl.metadata (27 kB)\n",
            "Collecting uvicorn\n",
            "  Downloading uvicorn-0.34.0-py3-none-any.whl.metadata (6.5 kB)\n",
            "Collecting pyngrok\n",
            "  Downloading pyngrok-7.2.3-py3-none-any.whl.metadata (8.7 kB)\n",
            "Requirement already satisfied: torch in /usr/local/lib/python3.10/dist-packages (2.5.1+cu121)\n",
            "Requirement already satisfied: torchvision in /usr/local/lib/python3.10/dist-packages (0.20.1+cu121)\n",
            "Requirement already satisfied: Pillow in /usr/local/lib/python3.10/dist-packages (11.1.0)\n",
            "Requirement already satisfied: opencv-python-headless in /usr/local/lib/python3.10/dist-packages (4.10.0.84)\n",
            "Collecting starlette<0.42.0,>=0.40.0 (from fastapi)\n",
            "  Downloading starlette-0.41.3-py3-none-any.whl.metadata (6.0 kB)\n",
            "Requirement already satisfied: pydantic!=1.8,!=1.8.1,!=2.0.0,!=2.0.1,!=2.1.0,<3.0.0,>=1.7.4 in /usr/local/lib/python3.10/dist-packages (from fastapi) (2.10.4)\n",
            "Requirement already satisfied: typing-extensions>=4.8.0 in /usr/local/lib/python3.10/dist-packages (from fastapi) (4.12.2)\n",
            "Requirement already satisfied: click>=7.0 in /usr/local/lib/python3.10/dist-packages (from uvicorn) (8.1.8)\n",
            "Requirement already satisfied: h11>=0.8 in /usr/local/lib/python3.10/dist-packages (from uvicorn) (0.14.0)\n",
            "Requirement already satisfied: PyYAML>=5.1 in /usr/local/lib/python3.10/dist-packages (from pyngrok) (6.0.2)\n",
            "Requirement already satisfied: filelock in /usr/local/lib/python3.10/dist-packages (from torch) (3.16.1)\n",
            "Requirement already satisfied: networkx in /usr/local/lib/python3.10/dist-packages (from torch) (3.4.2)\n",
            "Requirement already satisfied: jinja2 in /usr/local/lib/python3.10/dist-packages (from torch) (3.1.5)\n",
            "Requirement already satisfied: fsspec in /usr/local/lib/python3.10/dist-packages (from torch) (2024.10.0)\n",
            "Requirement already satisfied: sympy==1.13.1 in /usr/local/lib/python3.10/dist-packages (from torch) (1.13.1)\n",
            "Requirement already satisfied: mpmath<1.4,>=1.1.0 in /usr/local/lib/python3.10/dist-packages (from sympy==1.13.1->torch) (1.3.0)\n",
            "Requirement already satisfied: numpy in /usr/local/lib/python3.10/dist-packages (from torchvision) (1.26.4)\n",
            "Requirement already satisfied: annotated-types>=0.6.0 in /usr/local/lib/python3.10/dist-packages (from pydantic!=1.8,!=1.8.1,!=2.0.0,!=2.0.1,!=2.1.0,<3.0.0,>=1.7.4->fastapi) (0.7.0)\n",
            "Requirement already satisfied: pydantic-core==2.27.2 in /usr/local/lib/python3.10/dist-packages (from pydantic!=1.8,!=1.8.1,!=2.0.0,!=2.0.1,!=2.1.0,<3.0.0,>=1.7.4->fastapi) (2.27.2)\n",
            "Requirement already satisfied: anyio<5,>=3.4.0 in /usr/local/lib/python3.10/dist-packages (from starlette<0.42.0,>=0.40.0->fastapi) (3.7.1)\n",
            "Requirement already satisfied: MarkupSafe>=2.0 in /usr/local/lib/python3.10/dist-packages (from jinja2->torch) (3.0.2)\n",
            "Requirement already satisfied: idna>=2.8 in /usr/local/lib/python3.10/dist-packages (from anyio<5,>=3.4.0->starlette<0.42.0,>=0.40.0->fastapi) (3.10)\n",
            "Requirement already satisfied: sniffio>=1.1 in /usr/local/lib/python3.10/dist-packages (from anyio<5,>=3.4.0->starlette<0.42.0,>=0.40.0->fastapi) (1.3.1)\n",
            "Requirement already satisfied: exceptiongroup in /usr/local/lib/python3.10/dist-packages (from anyio<5,>=3.4.0->starlette<0.42.0,>=0.40.0->fastapi) (1.2.2)\n",
            "Downloading fastapi-0.115.6-py3-none-any.whl (94 kB)\n",
            "\u001b[2K   \u001b[90m━━━━━━━━━━━━━━━━━━━━━━━━━━━━━━━━━━━━━━━━\u001b[0m \u001b[32m94.8/94.8 kB\u001b[0m \u001b[31m4.0 MB/s\u001b[0m eta \u001b[36m0:00:00\u001b[0m\n",
            "\u001b[?25hDownloading uvicorn-0.34.0-py3-none-any.whl (62 kB)\n",
            "\u001b[2K   \u001b[90m━━━━━━━━━━━━━━━━━━━━━━━━━━━━━━━━━━━━━━━━\u001b[0m \u001b[32m62.3/62.3 kB\u001b[0m \u001b[31m4.3 MB/s\u001b[0m eta \u001b[36m0:00:00\u001b[0m\n",
            "\u001b[?25hDownloading pyngrok-7.2.3-py3-none-any.whl (23 kB)\n",
            "Downloading starlette-0.41.3-py3-none-any.whl (73 kB)\n",
            "\u001b[2K   \u001b[90m━━━━━━━━━━━━━━━━━━━━━━━━━━━━━━━━━━━━━━━━\u001b[0m \u001b[32m73.2/73.2 kB\u001b[0m \u001b[31m5.2 MB/s\u001b[0m eta \u001b[36m0:00:00\u001b[0m\n",
            "\u001b[?25hInstalling collected packages: uvicorn, pyngrok, starlette, fastapi\n",
            "Successfully installed fastapi-0.115.6 pyngrok-7.2.3 starlette-0.41.3 uvicorn-0.34.0\n"
          ]
        }
      ]
    },
    {
      "cell_type": "code",
      "source": [
        "!pip install python-multipart"
      ],
      "metadata": {
        "colab": {
          "base_uri": "https://localhost:8080/"
        },
        "id": "_J6WMeEO6kgt",
        "outputId": "44214a7f-f412-4a3d-e896-db21959b422f"
      },
      "execution_count": 2,
      "outputs": [
        {
          "output_type": "stream",
          "name": "stdout",
          "text": [
            "Collecting python-multipart\n",
            "  Downloading python_multipart-0.0.20-py3-none-any.whl.metadata (1.8 kB)\n",
            "Downloading python_multipart-0.0.20-py3-none-any.whl (24 kB)\n",
            "Installing collected packages: python-multipart\n",
            "Successfully installed python-multipart-0.0.20\n"
          ]
        }
      ]
    },
    {
      "cell_type": "code",
      "execution_count": 3,
      "metadata": {
        "id": "2H2xU9sM58S7"
      },
      "outputs": [],
      "source": [
        "import base64\n",
        "import io\n",
        "import cv2\n",
        "import numpy as np\n",
        "import torch\n",
        "from fastapi import FastAPI, File, UploadFile\n",
        "from fastapi.responses import JSONResponse\n",
        "from PIL import Image\n",
        "from torch import nn\n",
        "from torchvision import transforms\n",
        "from torchvision.models import mobilenet_v2\n",
        "from pyngrok import ngrok\n",
        "import nest_asyncio\n",
        "import uvicorn"
      ]
    },
    {
      "cell_type": "code",
      "source": [
        "# Helper function: Convert CV2 image to Base64\n",
        "def cv2_image_to_base64(image):\n",
        "    _, buffer = cv2.imencode(\".jpg\", image)\n",
        "    return base64.b64encode(buffer).decode(\"utf-8\")\n",
        "\n",
        "\n",
        "# Define the model class\n",
        "class ObjectDetectionModel(nn.Module):\n",
        "    def __init__(self):\n",
        "        super(ObjectDetectionModel, self).__init__()\n",
        "        self.backbone = mobilenet_v2(weights=\"DEFAULT\").features\n",
        "        self.classifier = nn.Sequential(\n",
        "            nn.AdaptiveAvgPool2d((1, 1)),\n",
        "            nn.Flatten(),\n",
        "            nn.Linear(1280, 512),\n",
        "            nn.ReLU(),\n",
        "            nn.Linear(512, 5),\n",
        "        )\n",
        "\n",
        "    def forward(self, x):\n",
        "        x = self.backbone(x)\n",
        "        x = self.classifier(x)\n",
        "        is_object = torch.sigmoid(x[:, :1])\n",
        "        bbox = torch.sigmoid(x[:, 1:])\n",
        "        return is_object, bbox\n",
        "\n",
        "\n",
        "# Initialize the FastAPI app\n",
        "app = FastAPI()\n",
        "\n",
        "# Load the model\n",
        "model = ObjectDetectionModel()\n",
        "# Replace 'best_object_detection.pt' with the correct path to your model file\n",
        "# Example: model.load_state_dict(torch.load('/content/best_object_detection.pt', map_location=torch.device('cpu')))\n",
        "model.load_state_dict(torch.load(\"best_object_detection.pt\", map_location=torch.device(\"cpu\")))\n",
        "model.eval()\n",
        "\n",
        "# Image transformation\n",
        "transform = transforms.Compose([transforms.Resize((224, 224)), transforms.ToTensor()])"
      ],
      "metadata": {
        "colab": {
          "base_uri": "https://localhost:8080/"
        },
        "id": "pCME3v826BZ8",
        "outputId": "670e78e0-4ee2-4a3e-a11b-88ce7d04482a"
      },
      "execution_count": 4,
      "outputs": [
        {
          "output_type": "stream",
          "name": "stderr",
          "text": [
            "Downloading: \"https://download.pytorch.org/models/mobilenet_v2-7ebf99e0.pth\" to /root/.cache/torch/hub/checkpoints/mobilenet_v2-7ebf99e0.pth\n",
            "100%|██████████| 13.6M/13.6M [00:00<00:00, 42.2MB/s]\n",
            "<ipython-input-4-9e199ec8a311>:35: FutureWarning: You are using `torch.load` with `weights_only=False` (the current default value), which uses the default pickle module implicitly. It is possible to construct malicious pickle data which will execute arbitrary code during unpickling (See https://github.com/pytorch/pytorch/blob/main/SECURITY.md#untrusted-models for more details). In a future release, the default value for `weights_only` will be flipped to `True`. This limits the functions that could be executed during unpickling. Arbitrary objects will no longer be allowed to be loaded via this mode unless they are explicitly allowlisted by the user via `torch.serialization.add_safe_globals`. We recommend you start setting `weights_only=True` for any use case where you don't have full control of the loaded file. Please open an issue on GitHub for any issues related to this experimental feature.\n",
            "  model.load_state_dict(torch.load(\"best_object_detection.pt\", map_location=torch.device(\"cpu\")))\n"
          ]
        }
      ]
    },
    {
      "cell_type": "code",
      "source": [
        "@app.post(\"/predict\")\n",
        "async def predict(file: UploadFile = File(...)):\n",
        "    try:\n",
        "        image = Image.open(io.BytesIO(await file.read())).convert(\"RGB\")\n",
        "        cv_image = cv2.cvtColor(np.array(image), cv2.COLOR_RGB2BGR)\n",
        "        img_width, img_height = image.size\n",
        "        image_tensor = transform(image).unsqueeze(0)\n",
        "\n",
        "        with torch.no_grad():\n",
        "            is_object, bbox = model(image_tensor)\n",
        "\n",
        "        is_object_value = is_object.item()\n",
        "        bbox = bbox.squeeze(0).tolist()\n",
        "        x, y, w, h = bbox\n",
        "        x = x * img_width\n",
        "        y *= img_height\n",
        "        w *= img_width\n",
        "        h *= img_height\n",
        "        x1, y1, x2, y2 = int(x - w / 2), int(y - h / 2), int(x + w / 2), int(y + h / 2)\n",
        "        cv2.rectangle(cv_image, (x1, y1), (x2, y2), (0, 255, 0), 1)\n",
        "\n",
        "        if is_object_value > 0.5:\n",
        "            response = {\n",
        "                \"is_object\": True,\n",
        "                \"bbox\": {\"x\": x, \"y\": y, \"w\": w, \"h\": h},\n",
        "                \"image_base64\": cv2_image_to_base64(cv_image),\n",
        "            }\n",
        "        else:\n",
        "            response = {\"is_object\": False, \"bbox\": None}\n",
        "\n",
        "        return JSONResponse(content=response)\n",
        "\n",
        "    except Exception as e:\n",
        "        return JSONResponse(status_code=500, content={\"error\": str(e)})\n",
        "\n",
        "@app.get(\"/\")\n",
        "def root():\n",
        "    return {\"message\": \"Single Object Detection API is running!\"}"
      ],
      "metadata": {
        "id": "vylOxrqc7Din"
      },
      "execution_count": 6,
      "outputs": []
    },
    {
      "cell_type": "code",
      "source": [
        "# Tambahkan token ngrok Anda\n",
        "!ngrok config add-authtoken YOUR_NGROK_AUTHTOKEN"
      ],
      "metadata": {
        "colab": {
          "base_uri": "https://localhost:8080/"
        },
        "id": "ZYPiFJ6Q6Sba",
        "outputId": "1c88dc07-0ba7-47b8-f119-5326cb4c31f1"
      },
      "execution_count": 7,
      "outputs": [
        {
          "output_type": "stream",
          "name": "stdout",
          "text": [
            "Authtoken saved to configuration file: /root/.config/ngrok/ngrok.yml\n"
          ]
        }
      ]
    },
    {
      "cell_type": "code",
      "source": [
        "# Run the FastAPI app using ngrok\n",
        "if __name__ == \"__main__\":\n",
        "    # Allow nested event loops in Colab\n",
        "    nest_asyncio.apply()\n",
        "\n",
        "    # Create ngrok tunnel\n",
        "    public_url = ngrok.connect(8000)\n",
        "    print(f\"Public URL: {public_url}\")\n",
        "\n",
        "    # Start the server\n",
        "    uvicorn.run(app, host=\"0.0.0.0\", port=8000)"
      ],
      "metadata": {
        "colab": {
          "base_uri": "https://localhost:8080/"
        },
        "id": "rDUKEyxT6DAm",
        "outputId": "17658217-2954-4bba-b231-44694466e57b"
      },
      "execution_count": 8,
      "outputs": [
        {
          "output_type": "stream",
          "name": "stderr",
          "text": [
            "INFO:     Started server process [240]\n",
            "INFO:     Waiting for application startup.\n",
            "INFO:     Application startup complete.\n",
            "INFO:     Uvicorn running on http://0.0.0.0:8000 (Press CTRL+C to quit)\n"
          ]
        },
        {
          "output_type": "stream",
          "name": "stdout",
          "text": [
            "Public URL: NgrokTunnel: \"https://bbba-35-221-188-31.ngrok-free.app\" -> \"http://localhost:8000\"\n",
            "INFO:     103.184.52.38:0 - \"GET / HTTP/1.1\" 200 OK\n",
            "INFO:     103.184.52.38:0 - \"GET /favicon.ico HTTP/1.1\" 404 Not Found\n",
            "INFO:     103.184.52.38:0 - \"GET / HTTP/1.1\" 200 OK\n",
            "INFO:     103.184.52.38:0 - \"POST /predict HTTP/1.1\" 200 OK\n",
            "INFO:     103.184.52.38:0 - \"POST /predict HTTP/1.1\" 200 OK\n",
            "INFO:     103.184.52.38:0 - \"POST /predict HTTP/1.1\" 200 OK\n",
            "INFO:     103.184.52.38:0 - \"POST /predict HTTP/1.1\" 200 OK\n",
            "INFO:     103.184.52.38:0 - \"POST /predict HTTP/1.1\" 200 OK\n",
            "INFO:     103.184.52.38:0 - \"POST /predict HTTP/1.1\" 200 OK\n",
            "INFO:     103.184.52.38:0 - \"POST /predict HTTP/1.1\" 200 OK\n"
          ]
        },
        {
          "output_type": "stream",
          "name": "stderr",
          "text": [
            "WARNING:pyngrok.process.ngrok:t=2025-01-14T14:59:50+0000 lvl=warn msg=\"Stopping forwarder\" name=http-8000-6223b89a-25cc-41d5-b7a1-c18ceef81530 acceptErr=\"failed to accept connection: Listener closed\"\n",
            "INFO:     Shutting down\n",
            "INFO:     Waiting for application shutdown.\n",
            "INFO:     Application shutdown complete.\n",
            "INFO:     Finished server process [240]\n"
          ]
        }
      ]
    }
  ]
}